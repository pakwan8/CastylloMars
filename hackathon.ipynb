{
 "cells": [
  {
   "cell_type": "markdown",
   "metadata": {},
   "source": [
    "### ![Callysto.ca Banner](https://github.com/callysto/curriculum-notebooks/blob/master/callysto-notebook-banner-top.jpg?raw=true)\n",
    "\n",
    "<a href=\"https://hub.callysto.ca/jupyter/hub/user-redirect/git-pull?repo=https%3A%2F%2Fgithub.com%2Fcallysto%2Fhackathon&branch=master&subPath=SustainabilityOnMars/AmalTrack/ChallengeTemplate/challenge-template.ipynb&depth=1\" target=\"_parent\"><img src=\"https://raw.githubusercontent.com/callysto/curriculum-notebooks/master/open-in-callysto-button.svg?sanitize=true\" width=\"123\" height=\"24\" alt=\"Open in Callysto\"/></a>"
   ]
  },
  {
   "cell_type": "markdown",
   "metadata": {},
   "source": [
    "# *Sustaining Life on Mars: Data Science Challenge*.\n",
    "\n",
    "You’re a data scientist on a team of newly-arrived humans. While you were on Earth, you figured out how you could make the planet habitable. From growing food to clothing needs, you need to start building the framework for sustaining life on the red planet. \n",
    "\n",
    "Use data to answer questions such as:\n",
    "\n",
    "1. What food do we need to bring?\n",
    "        e.g. trees, seeds, genetically-modified foods\n",
    "        \n",
    "2. How do we feed people there?\n",
    "        Consider: supply, manage, distribute, connect\n",
    "\n",
    "7. What are essential key resources? \n",
    "        e.g. Electricity, oxygen, water, fuel, brick, plastics, steel, food. \n",
    "\n",
    "4. How do we decide who will go?\n",
    "        e.g. population proportions, demographics, health, qualifications, genetic diversity\n",
    "\n",
    "5. What forms of entertainment would people need? \n",
    "        e.g. music, books, pets, lego\n",
    "\n",
    "6. What machines do we need? \n",
    "        e.g. cars, ships, fighter jets, rockets, computers, mobile phones.  \n",
    "        \n",
    "#### Choose one or more of these questions to answer, or come up with your own. Check out the example notebooks, and complete the sections in this notebook to answer your chosen question or questions"
   ]
  },
  {
   "cell_type": "markdown",
   "metadata": {},
   "source": [
    "### Section I: About Me\n",
    "\n",
    "Double-click this cell and tell us:\n",
    "1. My name: Thierry Laforge\n",
    "\n",
    "2. My e-mail address: 21laforgth@gmail.com\n",
    "\n",
    "3. Why I picked this challenge: I know quite a bit of python and how to make GUIs and games but I have never done any data analysis or anything of the sort before. I feel as if this will help me get into data analysis and further my Python knowledge.\n",
    "\n",
    "4. The question I picked: What are essential key resources? What will humans need to survive on Mars and how long will they survive off water supplies from earth?"
   ]
  },
  {
   "cell_type": "markdown",
   "metadata": {},
   "source": [
    "### Section II: The data I used\n",
    "\n",
    "1. Water Use and Stress\n",
    "2. https://ourworldindata.org/water-use-stress#freshwater-use-by-region\n",
    "3. To sustain life anywhere, water is an essential resource. Without it, humans can only survive for around 3 days! The dataset I chose would allow me to get the average daily water consumption in the OECD which I can then calculate how long a human can survive on Mars with a provided amount of water from earth."
   ]
  },
  {
   "cell_type": "code",
   "execution_count": 123,
   "metadata": {},
   "outputs": [],
   "source": [
    "# Use this cell to import libraries\n",
    "import pandas as pd\n",
    "import matplotlib.pyplot as plt\n",
    "import cufflinks as cf"
   ]
  },
  {
   "cell_type": "code",
   "execution_count": 124,
   "metadata": {},
   "outputs": [],
   "source": [
    "# Use this cell to read the data - use the tutorials if you are not sure how to do this\n",
    "# Double-click to edit this cell. \n",
    "csv = \"./OECD_freshwater_usage.csv\"\n",
    "df = pd.read_csv(csv, low_memory = False)"
   ]
  },
  {
   "cell_type": "markdown",
   "metadata": {},
   "source": [
    "### Section III: Data Analysis and Visualization"
   ]
  },
  {
   "cell_type": "markdown",
   "metadata": {},
   "source": [
    "### 👨🏽‍💻 Provide your code to explore and analyse your data"
   ]
  },
  {
   "cell_type": "code",
   "execution_count": 125,
   "metadata": {},
   "outputs": [
    {
     "name": "stdout",
     "output_type": "stream",
     "text": [
      "Most water that was used: 9.500768e+14 L\n",
      "Least water that was used: 1.149999e+14 L\n",
      "Average water use (per year): 4.950768e+14 L\n",
      "Year that used the most water: 2007\n",
      "Year that used the most water: 1902\n"
     ]
    }
   ],
   "source": [
    "# Finding random facts\n",
    "print(\"Most water that was used: %s L\" % (\"{:e}\".format(df[\"Freshwater_use\"].max() * 1000)))\n",
    "print(\"Least water that was used: %s L\" % (\"{:e}\".format(df[\"Freshwater_use\"].min() * 1000)))\n",
    "print(\"Average water use (per year): %s L\" % (\"{:e}\".format(df[\"Freshwater_use\"].mean() * 1000)))\n",
    "print(\"Year that used the most water: %s\" % (int(df[\"Year\"].where(df['Freshwater_use'] == df[\"Freshwater_use\"].max()).dropna().values[0])))\n",
    "print(\"Year that used the most water: %s\" % (int(df[\"Year\"].where(df['Freshwater_use'] == df[\"Freshwater_use\"].min()).dropna().values[0])))"
   ]
  },
  {
   "cell_type": "code",
   "execution_count": 126,
   "metadata": {},
   "outputs": [
    {
     "name": "stdout",
     "output_type": "stream",
     "text": [
      "Days with water (Regular use): 161.0\n"
     ]
    }
   ],
   "source": [
    "# If we send a Canadian astronaut to Mars, we can calculate how long the astronaut will be able to survive\n",
    "# with a certain amount of water brought from earth. (Not recycled)\n",
    "\n",
    "available_water = 53070.31 # The new SpaceX rocket is said to be able to carry 117,000 lbs of cargo.\n",
    "                            # Assuming that the astronauts bring only water, we can convert 117,000 lbs to L.\n",
    "can_avg = 329 # Litres\n",
    "print(\"Days with water (Regular use): %s\" % (available_water // can_avg))\n"
   ]
  },
  {
   "cell_type": "code",
   "execution_count": 127,
   "metadata": {},
   "outputs": [
    {
     "name": "stdout",
     "output_type": "stream",
     "text": [
      "Days with water (Just cooking and drinking): 1613.0\n"
     ]
    }
   ],
   "source": [
    "# So a human can survive 161 days on Mars using the water brought along from earth. But a lot of it is used on\n",
    "# cooking and bathing. If we take those out of the equation, we can stretch this number.\n",
    "\n",
    "can_avg_drink = 329 * 0.1 # Only 10% or so is actually used by drinking water and cooking.\n",
    "print(\"Days with water (Just cooking and drinking): %s\" % (available_water // can_avg_drink))"
   ]
  },
  {
   "cell_type": "code",
   "execution_count": 128,
   "metadata": {},
   "outputs": [
    {
     "name": "stdout",
     "output_type": "stream",
     "text": [
      "Days with water (Cooking and drinking every other day): 3226.0\n"
     ]
    }
   ],
   "source": [
    "# If a human can survive 1613 days by only drinking water and cooking, and the maximum amount of days one can\n",
    "# go without water is 3 days, we can somehow stretch this number even thinner. If the astronaut only eats and\n",
    "# drinks every other day, the new time would be...\n",
    "can_avg_bare = 329 * 0.1 / 2\n",
    "print(\"Days with water (Cooking and drinking every other day): %s\" % (available_water // can_avg_bare))"
   ]
  },
  {
   "cell_type": "markdown",
   "metadata": {},
   "source": [
    "### Observations\n",
    "Double-click this cell and write down at least 2 - 3 things or more you observed in your data through your analysis and visualizations.\n",
    "\n",
    "1. The year that used up the most water was 2007 which was (9.500768e+14 L)\n",
    "2. The year that used up the least amount of water was 1902 which was (1.149999e+14 L)\n",
    "3. On average, all of the countries managed to use up around 4.950768e+14 L of water a year.\n",
    "4. If one Canadian were to go to Mars on a SpaceX rocket with a cargo full of water, he/she would be able to\n",
    "   last around 161 days living like how they did at home, 1613 days if they only drank and cooked, and 3226 days if    they only drank and cooked every other day."
   ]
  },
  {
   "cell_type": "markdown",
   "metadata": {},
   "source": [
    "### Section IV: Conclusion\n",
    "\n",
    "It is crucial that you connect what you learned via the dataset to the main question(s) you are asking. \n",
    "\n",
    "Use this space to propose a solution to the question you picked. Make sure it is clear in your answer what area of development you chose to focus on and your proposed solution based on the dataset(s) you worked on. \n",
    "\n",
    "See our example notebooks for some inspiration on questions and solutions that you can develop using data."
   ]
  },
  {
   "cell_type": "markdown",
   "metadata": {},
   "source": [
    "Provide your analysis-driven result(s) here. Write down 2 - 3 things you learned from the data and how they help answer your main question(s). Also write down 2 - 3 things you learned from participating in this hackathon. \n",
    "Double-click to edit this cell. \n",
    "\n",
    "1. As a collective group in the OECD, on average we use around 4.95e+14 litres of water a day.\n",
    "2. A Canadian astronaut would be able to survive for 3226 days at most assuming all goes accoding to plan while   ignoring some factors. (i.e sweating, excersize, evaporation, etc.)\n",
    "1. Lots of data science and data analysis.\n",
    "2. New libraries in python that I will be able to use in the future."
   ]
  },
  {
   "cell_type": "markdown",
   "metadata": {},
   "source": [
    "### [![Callysto.ca License](https://github.com/callysto/curriculum-notebooks/blob/master/callysto-notebook-banner-bottom.jpg?raw=true)](https://github.com/callysto/curriculum-notebooks/blob/master/LICENSE.md)"
   ]
  }
 ],
 "metadata": {
  "kernelspec": {
   "display_name": "Python 3",
   "language": "python",
   "name": "python3"
  },
  "language_info": {
   "codemirror_mode": {
    "name": "ipython",
    "version": 3
   },
   "file_extension": ".py",
   "mimetype": "text/x-python",
   "name": "python",
   "nbconvert_exporter": "python",
   "pygments_lexer": "ipython3",
   "version": "3.8.4"
  }
 },
 "nbformat": 4,
 "nbformat_minor": 4
}
